{
 "cells": [
  {
   "cell_type": "markdown",
   "id": "e97b70bc-85df-40a1-9537-f71e034ac634",
   "metadata": {},
   "source": [
    "## Write a Python program that:\n",
    "\n",
    "Accepts a comma-separated string of numbers from the user (e.g., \"1,2,3,4,5\").\n",
    "Typecasts the input string into a list of integers.\n",
    "Print the resulting list of integers.\n",
    "Example Input:\n",
    "\"10,20,30,40,50\" or \n",
    "[10, 20, 30, 40, 50]\n"
   ]
  },
  {
   "cell_type": "code",
   "execution_count": 1,
   "id": "ddead697-b887-460f-94c6-c17be97675aa",
   "metadata": {},
   "outputs": [
    {
     "name": "stdin",
     "output_type": "stream",
     "text": [
      "Enter comma saprated Nos.:  10,20,30,40,50\n"
     ]
    },
    {
     "data": {
      "text/plain": [
       "[10, 20, 30, 40, 50]"
      ]
     },
     "execution_count": 1,
     "metadata": {},
     "output_type": "execute_result"
    }
   ],
   "source": [
    "nums=input(\"Enter comma saprated Nos.: \").split(',')\n",
    "int_list=[]\n",
    "for n in nums:\n",
    "    int_list.append(int(n))\n",
    "int_list"
   ]
  },
  {
   "cell_type": "markdown",
   "id": "6bd54ab7-060f-4207-a5ce-abc140e3c796",
   "metadata": {},
   "source": [
    "## Write a Python program that user to enter 5 different names (e.g., \"Alice, Bob, Charlie, David, Eve\").\n",
    "Stores these names in a list and prints the list.\n",
    "Then, ask the user for a number and print the name at that index of the list. \n",
    "\n",
    "Example Input\n",
    "\n",
    "\"Alice, Bob, Charlie, David, Eve\"\n",
    "Enter an index: 2\n",
    "\n",
    "\n",
    "Example Output:\n",
    "\n",
    "\n",
    "List: ['Alice', 'Bob', 'Charlie', 'David', 'Eve']\n",
    "Name at index 2: Charlie\n"
   ]
  },
  {
   "cell_type": "code",
   "execution_count": 34,
   "id": "a59a34a4-72cf-4b40-9131-702388e668ed",
   "metadata": {},
   "outputs": [
    {
     "name": "stdin",
     "output_type": "stream",
     "text": [
      "Enter name:  Alice\n",
      "Enter name:  Bob\n",
      "Enter name:  Charlie\n",
      "Enter name:  David\n",
      "Enter name:  Eve\n"
     ]
    },
    {
     "name": "stdout",
     "output_type": "stream",
     "text": [
      "['Alice', 'Bob', 'Charlie', 'David', 'Eve']\n"
     ]
    },
    {
     "name": "stdin",
     "output_type": "stream",
     "text": [
      "enter a no. -3\n"
     ]
    },
    {
     "name": "stdout",
     "output_type": "stream",
     "text": [
      "Charlie\n"
     ]
    }
   ],
   "source": [
    "names=[]\n",
    "for a in range(5):\n",
    "    name=input(\"Enter name: \")\n",
    "    names.append(name)\n",
    "print(names)\n",
    "num=int(input(\"enter a no.\"))\n",
    "if (num<len(names)) and num>=((-(len(names)))):\n",
    "    print(names[num])\n",
    "else:\n",
    "    print(\"enter a num < 5:\")"
   ]
  },
  {
   "cell_type": "code",
   "execution_count": null,
   "id": "fc2a8bee-f590-4630-a27b-a9c332ebb9c7",
   "metadata": {},
   "outputs": [],
   "source": []
  },
  {
   "cell_type": "markdown",
   "id": "b74c2e00-ed01-446f-af03-5e32ec46944f",
   "metadata": {},
   "source": [
    "## Write a Python program that takes an integer input from the user and checks whether the number is:\n",
    "\n",
    "* Positive\n",
    "\n",
    "* Negative\n",
    "\n",
    "* Zero"
   ]
  },
  {
   "cell_type": "code",
   "execution_count": 37,
   "id": "51fd353d-a1dc-4f90-8374-13a2404f838d",
   "metadata": {},
   "outputs": [
    {
     "name": "stdin",
     "output_type": "stream",
     "text": [
      "enter a no. 000000\n"
     ]
    },
    {
     "name": "stdout",
     "output_type": "stream",
     "text": [
      "Number is Zero\n"
     ]
    }
   ],
   "source": [
    "num=int(input(\"enter a no.\"))\n",
    "if num>0:\n",
    "    print('Number is Positive')\n",
    "elif num<0:\n",
    "    print('Number is Negative')\n",
    "else:\n",
    "    print('Number is Zero')"
   ]
  },
  {
   "cell_type": "markdown",
   "id": "a36e94fe-20e0-4227-abd8-cbd7ca532f51",
   "metadata": {},
   "source": [
    "## Create a Python program that takes a user's age as input and categorizes them into one of the following age groups:\n",
    "\n",
    "* Child (0-12)\n",
    "* Teen (13-19)\n",
    "* Adult (20-64)\n",
    "* Senior (65+)\n",
    "\n",
    "Print the corresponding category based on the user's age."
   ]
  },
  {
   "cell_type": "code",
   "execution_count": 52,
   "id": "4615626a-ae1f-4f93-a023-3b1f36484b66",
   "metadata": {},
   "outputs": [
    {
     "name": "stdin",
     "output_type": "stream",
     "text": [
      "enter your age 5\n"
     ]
    },
    {
     "name": "stdout",
     "output_type": "stream",
     "text": [
      "Child\n"
     ]
    }
   ],
   "source": [
    "age=float(input(\"enter your age\"))\n",
    "if age>=65:\n",
    "    print('Senior')\n",
    "elif age>=20:\n",
    "    print('Adult')\n",
    "elif age>=13:\n",
    "    print('Teen')\n",
    "else:\n",
    "    print('Child')"
   ]
  },
  {
   "cell_type": "code",
   "execution_count": null,
   "id": "0a58d305-0dc2-4363-a420-1cacdd4c2c0b",
   "metadata": {},
   "outputs": [],
   "source": []
  },
  {
   "cell_type": "markdown",
   "id": "13fb3a6c-ba33-41ef-8b6f-85cd454cc909",
   "metadata": {},
   "source": [
    "## Write a program that asks the user for their name and age, and prints out a message such as: \"Hello [name], you are [age] years old."
   ]
  },
  {
   "cell_type": "code",
   "execution_count": 53,
   "id": "2ba6dab2-6064-450d-b44d-21a67f6767f6",
   "metadata": {},
   "outputs": [
    {
     "name": "stdin",
     "output_type": "stream",
     "text": [
      "Enter your name:  shoaib\n",
      "Enter your age:  38\n"
     ]
    },
    {
     "name": "stdout",
     "output_type": "stream",
     "text": [
      "Hello Mr.shoaib, you are 38 years old\n"
     ]
    }
   ],
   "source": [
    "name=input(\"Enter your name: \")\n",
    "age=input(\"Enter your age: \")\n",
    "print(f\"Hello Mr.{name}, you are {age} years old\")"
   ]
  },
  {
   "cell_type": "markdown",
   "id": "753e9996-d137-4577-b8d8-39c697ae51e5",
   "metadata": {},
   "source": [
    "## Write a Python program that demonstrates the use of arithmetic operators (+, -, *, /, %, //, **). Provide examples of each operator, such as:\n",
    "\n",
    "* Addition of two numbers.\n",
    "* Division of two numbers (including floor division).\n",
    "* Exponentiation (power).\n",
    "* Modulus to find the remainder"
   ]
  },
  {
   "cell_type": "code",
   "execution_count": 54,
   "id": "2d6f9ba8-b098-4598-b62d-8057ac6b1342",
   "metadata": {},
   "outputs": [
    {
     "name": "stdin",
     "output_type": "stream",
     "text": [
      "Enter a number: or q to exit  55\n",
      "Enter another number or q to exit 98\n",
      "Enter operator: or q to exit  q\n"
     ]
    },
    {
     "name": "stdout",
     "output_type": "stream",
     "text": [
      "Thank you for using calculator!!\n"
     ]
    }
   ],
   "source": [
    "while True:\n",
    "\n",
    "    a = input(\"Enter a number: or q to exit \")\n",
    "    if a=='q':\n",
    "        print(\"Thank you for using calculator!!\")\n",
    "        break\n",
    "    \n",
    "    b = input(\"Enter another number or q to exit\")\n",
    "    if b=='q':\n",
    "        print(\"Thank you for using calculator!!\")\n",
    "        break\n",
    "    \n",
    "    op = input(\"Enter operator: or q to exit \")\n",
    "    if op=='q':\n",
    "        print(\"Thank you for using calculator!!\")\n",
    "        break\n",
    "    \n",
    "    elif op==\"+\":\n",
    "        print(int(a)+int(b))\n",
    "    elif op==\"-\":\n",
    "        print(int(a)-int(b))\n",
    "    elif op==\"*\":\n",
    "        print(int(a)*int(b))\n",
    "    elif op==\"/\":\n",
    "        print(int(a)/int(b))\n",
    "    elif op==\"//\":\n",
    "        print(int(a)//int(b))\n",
    "    elif op==\"**\":\n",
    "        print(int(a)**int(b))\n",
    "    elif op==\"%\":\n",
    "        print(int(a)%int(b))\n",
    "    else:\n",
    "        print(\"Invalid Operator\")\n",
    "    "
   ]
  },
  {
   "cell_type": "markdown",
   "id": "1870c517-0e30-4bb0-a46a-8cbabc77e0c3",
   "metadata": {},
   "source": [
    "## Create a Program to Reverse a String"
   ]
  },
  {
   "cell_type": "code",
   "execution_count": 33,
   "id": "9c3e955a-d1c6-433e-a478-37cd1d9d0f6f",
   "metadata": {},
   "outputs": [
    {
     "name": "stdout",
     "output_type": "stream",
     "text": [
      "!noyhtP olleH\n"
     ]
    }
   ],
   "source": [
    "var=\"Hello Pthyon!\"\n",
    "print(var[::-1])"
   ]
  },
  {
   "cell_type": "markdown",
   "id": "6f5a5402-580d-4ccc-98cf-96864dd0ee52",
   "metadata": {},
   "source": [
    "## Write a program that takes a list of numbers as input from the user and sorts the list in ascending order. Print the sorted list after the operation."
   ]
  },
  {
   "cell_type": "code",
   "execution_count": 151,
   "id": "535fb5e3-2f46-4167-ae9e-7a4aaa379f97",
   "metadata": {},
   "outputs": [
    {
     "name": "stdin",
     "output_type": "stream",
     "text": [
      "Enter comma saprated Nos.:  98,65,25,1,143,763\n"
     ]
    },
    {
     "name": "stdout",
     "output_type": "stream",
     "text": [
      "[98, 65, 25, 1, 143, 763]\n"
     ]
    },
    {
     "data": {
      "text/plain": [
       "763"
      ]
     },
     "execution_count": 151,
     "metadata": {},
     "output_type": "execute_result"
    }
   ],
   "source": [
    "nums=input(\"Enter comma saprated Nos.: \").split(',')\n",
    "int_list=[]\n",
    "for n in nums:\n",
    "    int_list.append(int(n))\n",
    "max_num=0\n",
    "for n in int_list:\n",
    "    if n>=max_num:\n",
    "        max_num=n\n",
    "print(int_list)\n",
    "max_num\n"
   ]
  },
  {
   "cell_type": "markdown",
   "id": "68ec045f-fe59-4e3b-92d5-ae4bcc6ec39c",
   "metadata": {},
   "source": [
    "## Write a program that asks the user for the price of a product and calculates the discount. If the price is greater than 100, give a 20% discount; otherwise, give a 10% discount. Print the discounted price using if-else statements."
   ]
  },
  {
   "cell_type": "code",
   "execution_count": 66,
   "id": "e19c45c9-0200-4d9a-8c02-a0406e50a5f7",
   "metadata": {},
   "outputs": [
    {
     "name": "stdin",
     "output_type": "stream",
     "text": [
      "Enter price of a product:  12.56\n"
     ]
    },
    {
     "name": "stdout",
     "output_type": "stream",
     "text": [
      "your discounted price is 11.304\n"
     ]
    }
   ],
   "source": [
    "price=float(input(\"Enter price of a product: \"))\n",
    "if price>=100:\n",
    "    discount=price*0.2\n",
    "else:\n",
    "    discount=price*0.1\n",
    "    \n",
    "discounted_price = price-discount\n",
    "print(f\"your discounted price is {discounted_price}\")\n"
   ]
  },
  {
   "cell_type": "markdown",
   "id": "25226917-1c9a-4d49-bb5a-edd4cae014ad",
   "metadata": {},
   "source": [
    "## Write a Python program that takes a number (1-7) as input from the user, and prints the corresponding day of the week:\n",
    "\n",
    "* 1: Monday\n",
    "* 2: Tuesday\n",
    "* 3: Wednesday\n",
    "* 4: Thursday\n",
    "* 5: Friday\n",
    "* 6: Saturday\n",
    "* 7: Sunday"
   ]
  },
  {
   "cell_type": "code",
   "execution_count": 143,
   "id": "b1062227-64b2-41c5-8db0-1b7aaf0269b8",
   "metadata": {},
   "outputs": [
    {
     "name": "stdin",
     "output_type": "stream",
     "text": [
      "Enter a number from 1-7: 22\n"
     ]
    },
    {
     "name": "stdout",
     "output_type": "stream",
     "text": [
      "Enter a number from 1-7 only\n"
     ]
    }
   ],
   "source": [
    "num=int(input(\"Enter a number from 1-7:\"))\n",
    "\n",
    "if num==1:\n",
    "    print(\"Monday\")\n",
    "elif num==2:\n",
    "    print(\"Tuesday\")\n",
    "elif num==3:\n",
    "    print(\"Wednesday\")\n",
    "elif num==4:\n",
    "    print(\"Thursday\")\n",
    "elif num==5:\n",
    "    print(\"Friday\")\n",
    "elif num==6:\n",
    "    print(\"Saturday\")\n",
    "elif num==7:\n",
    "    print(\"Sunday\")\n",
    "else:\n",
    "    print(\"Enter a number from 1-7 only\")\n"
   ]
  },
  {
   "cell_type": "markdown",
   "id": "81c12b61-6330-49ae-bf1d-bbead6dc1729",
   "metadata": {},
   "source": [
    "## Write a program that asks the user for the weight of a package and calculates the shipping charges based on the following conditions:\n",
    "\n",
    "\n",
    "* If the weight is less than 1kg, the shipping cost is $5.\n",
    "  \n",
    "* If the weight is between 1kg and 5kg, the shipping cost is $10.\n",
    "\n",
    "  \n",
    "* If the weight is between 5kg and 10kg, the shipping cost is $15.\n",
    "\n",
    "  \n",
    "* If the weight is greater than 10kg, the shipping cost is $20."
   ]
  },
  {
   "cell_type": "code",
   "execution_count": 5,
   "id": "69207c42-7e00-4a9d-806c-6167759e75a6",
   "metadata": {},
   "outputs": [
    {
     "name": "stdin",
     "output_type": "stream",
     "text": [
      "Enter weight of package:  0.5\n"
     ]
    },
    {
     "name": "stdout",
     "output_type": "stream",
     "text": [
      "Shipping cost is $5\n"
     ]
    }
   ],
   "source": [
    "weight=float(input(\"Enter weight of package: \"))\n",
    "if weight>10:\n",
    "    print(\"Shipping cost is $20.\")\n",
    "elif weight>=5:\n",
    "     print(\"Shipping cost is $15.\")\n",
    "elif weight>=1:\n",
    "     print(\"Shipping cost is $10.\")\n",
    "else:\n",
    "    print(\"Shipping cost is $5\")\n"
   ]
  },
  {
   "cell_type": "code",
   "execution_count": 79,
   "id": "ac1b56e3-31a8-49a2-8153-6f013e05e27b",
   "metadata": {},
   "outputs": [
    {
     "name": "stdin",
     "output_type": "stream",
     "text": [
      "Enter the weight of the package (kg):  1\n"
     ]
    },
    {
     "name": "stdout",
     "output_type": "stream",
     "text": [
      "Shipping cost: $10\n"
     ]
    }
   ],
   "source": [
    "\n",
    "weight = float(input(\"Enter the weight of the package (kg): \"))\n",
    "\n",
    "if weight < 1:\n",
    "    shipping_cost = 5\n",
    "elif 1 <= weight <= 5:\n",
    "    shipping_cost = 10\n",
    "elif 5 < weight <= 10:\n",
    "    shipping_cost = 15\n",
    "else:\n",
    "    shipping_cost = 20\n",
    "\n",
    "# Print the shipping cost\n",
    "print(f\"Shipping cost: ${shipping_cost}\")\n"
   ]
  },
  {
   "cell_type": "markdown",
   "id": "f611a172-86d9-4fc8-9032-865be4866ec5",
   "metadata": {},
   "source": [
    "## Write a Python program that asks the user for a single character and checks:\n",
    "\n",
    "* If the character is either a vowel (a, e, i, o, u) or a consonant (any alphabet letter other than a vowel).\n",
    "Print \"Vowel\" if it is a vowel.\n",
    " \n",
    " Print \"Invalid character\" if it is neither."
   ]
  },
  {
   "cell_type": "code",
   "execution_count": 11,
   "id": "85e9e038-4a65-4943-b992-9f5c4e9db3c0",
   "metadata": {},
   "outputs": [
    {
     "name": "stdin",
     "output_type": "stream",
     "text": [
      "Enter any alphbet:  I\n"
     ]
    },
    {
     "name": "stdout",
     "output_type": "stream",
     "text": [
      "It's a Vowel\n"
     ]
    }
   ],
   "source": [
    "charc=input(\"Enter any alphbet: \")\n",
    "\n",
    "if charc in ('a', 'e', 'i', 'o', 'u', 'A', 'E', 'I', 'O', 'U'):\n",
    "    print(\"It's a Vowel\")\n",
    "elif charc not in ('a', 'e', 'i', 'o', 'u', 'A', 'E', 'I', 'O', 'U'):\n",
    "    print(\"It's a Consonant\")\n",
    "else:\n",
    "    print(\"Invalid Character\")\n"
   ]
  },
  {
   "cell_type": "code",
   "execution_count": 115,
   "id": "ca3eb13a-86a8-4730-84e2-c75c79cc01c3",
   "metadata": {},
   "outputs": [
    {
     "name": "stdin",
     "output_type": "stream",
     "text": [
      "Enter any alphbet:  5\n"
     ]
    },
    {
     "name": "stdout",
     "output_type": "stream",
     "text": [
      "Invalid character\n"
     ]
    }
   ],
   "source": [
    "charc=input(\"Enter any alphbet: \").lower()\n",
    "if charc in \"aeiou\":\n",
    "        print(\"Vowel\")\n",
    "elif 'a' <= charc <= 'z':\n",
    "        print(\"Consonant\")\n",
    "else:\n",
    "        print(\"Invalid character\")"
   ]
  },
  {
   "cell_type": "markdown",
   "id": "e96d0352-d6ce-4930-b1c0-0db377f67800",
   "metadata": {},
   "source": [
    "## Write a Python program that asks the student’s grade. The program should check:\n",
    "\n",
    "* If the grade is greater than or equal to 90 and less than or equal to 100, print \"Top 5 Student\".\n",
    "* If the grade is greater than or equal to 80 and less than 90, print \"Top 10 Student\".\n",
    "* Otherwise, print \"Not in Top 10\"."
   ]
  },
  {
   "cell_type": "code",
   "execution_count": 98,
   "id": "338da3ba-b6dc-48e4-96a6-a4b56bbe07a9",
   "metadata": {},
   "outputs": [
    {
     "name": "stdin",
     "output_type": "stream",
     "text": [
      "Enter grade:  89.9\n"
     ]
    },
    {
     "name": "stdout",
     "output_type": "stream",
     "text": [
      "Not in Top 10 Students\n"
     ]
    }
   ],
   "source": [
    "grade=float(input(\"Enter grade: \"))\n",
    "if grade>=90:\n",
    "    print(\"Top 5 Students\")\n",
    "elif grade>=90:\n",
    "     print(\"Top 10 Students\")\n",
    "else:\n",
    "     print(\"Not in Top 10 Students\")"
   ]
  },
  {
   "cell_type": "markdown",
   "id": "b935421a-02a1-4aaa-96bf-06aa1fd4ef2e",
   "metadata": {},
   "source": [
    "## Write a Python program that checks if a student passed based on the following conditions:\n",
    "\n",
    "* If the marks are greater than or equal to 50, check\n",
    "  * if the attendance is 75% or more:\n",
    "  \n",
    "  * If attendance is 75% or more, print \"Passed\".\n",
    "\n",
    "  * If attendance is less than 75%, print \"Failed due to low attendance\".\n",
    "* If the marks are less than 50, print \"Failed due to low marks\"."
   ]
  },
  {
   "cell_type": "code",
   "execution_count": 88,
   "id": "f30bf6d5-6911-4343-a7b0-c3240cbe5b7c",
   "metadata": {},
   "outputs": [
    {
     "name": "stdin",
     "output_type": "stream",
     "text": [
      "Enter your Marks:  88\n",
      "Attendance of student is 75%:  y\n"
     ]
    },
    {
     "name": "stdout",
     "output_type": "stream",
     "text": [
      "Passed\n"
     ]
    }
   ],
   "source": [
    "marks=int(input(\"Enter your Marks: \"))\n",
    "if marks>=50:\n",
    "    attend=input(\"Attendance of student is 75%: \")\n",
    "    if attend==\"y\":\n",
    "        print(\"Passed\")\n",
    "    else:\n",
    "        print(\"Failed due to low attendance\")\n",
    "else:\n",
    "    print(\"Failed due to low marks\")"
   ]
  },
  {
   "cell_type": "markdown",
   "id": "7a98211b-92fb-447f-a877-0a657a30a1cc",
   "metadata": {},
   "source": [
    "## Write a Python program that checks if a person is eligible for a loan:\n",
    "\n",
    "* If the person’s credit score is above 700, check if their income is above $50,000:\n",
    "    * If true, print \"Loan Approved\".\n",
    "    * If false, print \"Loan Denied due to low income\".\n",
    "* If the credit score is below 700, print \"Loan Denied due to low credit score"
   ]
  },
  {
   "cell_type": "code",
   "execution_count": 93,
   "id": "41851db1-51fb-4ccf-8963-fa13caab4abf",
   "metadata": {},
   "outputs": [
    {
     "name": "stdin",
     "output_type": "stream",
     "text": [
      "Enter credit score:  755\n",
      "Enter your invome:  50005\n"
     ]
    },
    {
     "name": "stdout",
     "output_type": "stream",
     "text": [
      "Loan Approved\n"
     ]
    }
   ],
   "source": [
    "credit_score=float(input(\"Enter credit score: \"))\n",
    "if credit_score>=700:\n",
    "    income=float(input(\"Enter your invome: \"))\n",
    "    if income>=50000:\n",
    "        print(\"Loan Approved\")\n",
    "    else:\n",
    "         print (\"Loan Denied due to low income\")\n",
    "else:\n",
    "    print (\"Loan Denied due to low credit score\")"
   ]
  },
  {
   "cell_type": "code",
   "execution_count": null,
   "id": "c664eecc-6053-4081-8ec3-ea1eb812613a",
   "metadata": {},
   "outputs": [],
   "source": []
  }
 ],
 "metadata": {
  "kernelspec": {
   "display_name": "Python 3 (ipykernel)",
   "language": "python",
   "name": "python3"
  },
  "language_info": {
   "codemirror_mode": {
    "name": "ipython",
    "version": 3
   },
   "file_extension": ".py",
   "mimetype": "text/x-python",
   "name": "python",
   "nbconvert_exporter": "python",
   "pygments_lexer": "ipython3",
   "version": "3.12.7"
  }
 },
 "nbformat": 4,
 "nbformat_minor": 5
}
